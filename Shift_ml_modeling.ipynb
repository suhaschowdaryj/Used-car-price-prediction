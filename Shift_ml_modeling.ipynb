{
  "nbformat": 4,
  "nbformat_minor": 0,
  "metadata": {
    "colab": {
      "name": "Shift ml modeling.ipynb",
      "provenance": [],
      "collapsed_sections": []
    },
    "kernelspec": {
      "name": "python3",
      "display_name": "Python 3"
    },
    "language_info": {
      "name": "python"
    }
  },
  "cells": [
    {
      "cell_type": "code",
      "execution_count": 1,
      "metadata": {
        "id": "3tRMK6kF8f8p"
      },
      "outputs": [],
      "source": [
        "import pandas as pd\n",
        "import numpy as np\n",
        "import seaborn as sns\n",
        "import plotly\n",
        "import plotly.express as px\n",
        "import matplotlib.pyplot as plt\n",
        "from IPython.display import display\n",
        "pd.set_option('display.float_format', lambda x: '%.3f' % x)\n",
        "%matplotlib inline"
      ]
    },
    {
      "cell_type": "code",
      "source": [
        "from sklearn.model_selection import train_test_split\n",
        "from sklearn.preprocessing import LabelEncoder\n",
        "from sklearn.linear_model import LinearRegression\n",
        "from sklearn.metrics import r2_score, mean_squared_error\n",
        "from sklearn.svm import SVR\n",
        "from xgboost import XGBRegressor\n",
        "from sklearn.model_selection import GridSearchCV\n",
        "from sklearn.ensemble import RandomForestRegressor\n",
        "from sklearn.pipeline import make_pipeline\n",
        "\n",
        "\n",
        "%matplotlib inline"
      ],
      "metadata": {
        "id": "npbrPlu028SR"
      },
      "execution_count": 2,
      "outputs": []
    },
    {
      "cell_type": "markdown",
      "source": [
        "# 1. Load datasets"
      ],
      "metadata": {
        "id": "hefcxP6_9JYg"
      }
    },
    {
      "cell_type": "code",
      "source": [
        "df = pd.read_csv('sample_shift.csv')"
      ],
      "metadata": {
        "id": "KG2ZKS_W9Jp3"
      },
      "execution_count": 69,
      "outputs": []
    },
    {
      "cell_type": "code",
      "source": [
        "df.head()"
      ],
      "metadata": {
        "colab": {
          "base_uri": "https://localhost:8080/",
          "height": 357
        },
        "id": "vS_OC9wy9NAH",
        "outputId": "645e99ce-c8ba-451e-fe3b-c828471422f9"
      },
      "execution_count": 4,
      "outputs": [
        {
          "output_type": "execute_result",
          "data": {
            "text/plain": [
              "  seller_id  year       make           model           trim body_type  \\\n",
              "0    P10XYZ  2017      Mazda          Mazda6  Grand Touring     sedan   \n",
              "1    P11XYZ  2015  Chevrolet          Impala            2LT     sedan   \n",
              "2    P12XYZ  2012    Hyundai         Elantra        Limited     sedan   \n",
              "3    P13XYZ  2011       Jeep  Grand Cherokee         Laredo       suv   \n",
              "4    P14XYZ  2014      Honda            CR-V             LX       suv   \n",
              "\n",
              "           engine_type  mileage  accidents  owners         region  \\\n",
              "0  internal-combustion     8500      0.000   1.000  San Francisco   \n",
              "1  internal-combustion    50500      0.000   1.000         Dallas   \n",
              "2  internal-combustion   109378      0.000   4.000    Los Angeles   \n",
              "3  internal-combustion    74600      0.000   1.000    Los Angeles   \n",
              "4  internal-combustion    58358      0.000   1.000  San Francisco   \n",
              "\n",
              "  appraisal_date  acquistion_price listing_date  list_price   sell_date  \\\n",
              "0     2021-01-01         19000.000   2021-01-03       20300  2021-01-09   \n",
              "1     2021-01-03         13300.000   2021-01-03       17400  2021-03-25   \n",
              "2     2021-01-02          3200.000   2021-01-03        3841  2021-01-17   \n",
              "3     2021-01-02         10900.000   2021-01-03       14400  2021-01-07   \n",
              "4     2021-01-02         12600.000   2021-01-03       14400  2021-02-01   \n",
              "\n",
              "   final_sale_price  \n",
              "0         18950.000  \n",
              "1         13200.000  \n",
              "2          3800.000  \n",
              "3         11470.000  \n",
              "4         13450.000  "
            ],
            "text/html": [
              "\n",
              "  <div id=\"df-2c2af054-5d4a-4098-980b-7296f9899afa\">\n",
              "    <div class=\"colab-df-container\">\n",
              "      <div>\n",
              "<style scoped>\n",
              "    .dataframe tbody tr th:only-of-type {\n",
              "        vertical-align: middle;\n",
              "    }\n",
              "\n",
              "    .dataframe tbody tr th {\n",
              "        vertical-align: top;\n",
              "    }\n",
              "\n",
              "    .dataframe thead th {\n",
              "        text-align: right;\n",
              "    }\n",
              "</style>\n",
              "<table border=\"1\" class=\"dataframe\">\n",
              "  <thead>\n",
              "    <tr style=\"text-align: right;\">\n",
              "      <th></th>\n",
              "      <th>seller_id</th>\n",
              "      <th>year</th>\n",
              "      <th>make</th>\n",
              "      <th>model</th>\n",
              "      <th>trim</th>\n",
              "      <th>body_type</th>\n",
              "      <th>engine_type</th>\n",
              "      <th>mileage</th>\n",
              "      <th>accidents</th>\n",
              "      <th>owners</th>\n",
              "      <th>region</th>\n",
              "      <th>appraisal_date</th>\n",
              "      <th>acquistion_price</th>\n",
              "      <th>listing_date</th>\n",
              "      <th>list_price</th>\n",
              "      <th>sell_date</th>\n",
              "      <th>final_sale_price</th>\n",
              "    </tr>\n",
              "  </thead>\n",
              "  <tbody>\n",
              "    <tr>\n",
              "      <th>0</th>\n",
              "      <td>P10XYZ</td>\n",
              "      <td>2017</td>\n",
              "      <td>Mazda</td>\n",
              "      <td>Mazda6</td>\n",
              "      <td>Grand Touring</td>\n",
              "      <td>sedan</td>\n",
              "      <td>internal-combustion</td>\n",
              "      <td>8500</td>\n",
              "      <td>0.000</td>\n",
              "      <td>1.000</td>\n",
              "      <td>San Francisco</td>\n",
              "      <td>2021-01-01</td>\n",
              "      <td>19000.000</td>\n",
              "      <td>2021-01-03</td>\n",
              "      <td>20300</td>\n",
              "      <td>2021-01-09</td>\n",
              "      <td>18950.000</td>\n",
              "    </tr>\n",
              "    <tr>\n",
              "      <th>1</th>\n",
              "      <td>P11XYZ</td>\n",
              "      <td>2015</td>\n",
              "      <td>Chevrolet</td>\n",
              "      <td>Impala</td>\n",
              "      <td>2LT</td>\n",
              "      <td>sedan</td>\n",
              "      <td>internal-combustion</td>\n",
              "      <td>50500</td>\n",
              "      <td>0.000</td>\n",
              "      <td>1.000</td>\n",
              "      <td>Dallas</td>\n",
              "      <td>2021-01-03</td>\n",
              "      <td>13300.000</td>\n",
              "      <td>2021-01-03</td>\n",
              "      <td>17400</td>\n",
              "      <td>2021-03-25</td>\n",
              "      <td>13200.000</td>\n",
              "    </tr>\n",
              "    <tr>\n",
              "      <th>2</th>\n",
              "      <td>P12XYZ</td>\n",
              "      <td>2012</td>\n",
              "      <td>Hyundai</td>\n",
              "      <td>Elantra</td>\n",
              "      <td>Limited</td>\n",
              "      <td>sedan</td>\n",
              "      <td>internal-combustion</td>\n",
              "      <td>109378</td>\n",
              "      <td>0.000</td>\n",
              "      <td>4.000</td>\n",
              "      <td>Los Angeles</td>\n",
              "      <td>2021-01-02</td>\n",
              "      <td>3200.000</td>\n",
              "      <td>2021-01-03</td>\n",
              "      <td>3841</td>\n",
              "      <td>2021-01-17</td>\n",
              "      <td>3800.000</td>\n",
              "    </tr>\n",
              "    <tr>\n",
              "      <th>3</th>\n",
              "      <td>P13XYZ</td>\n",
              "      <td>2011</td>\n",
              "      <td>Jeep</td>\n",
              "      <td>Grand Cherokee</td>\n",
              "      <td>Laredo</td>\n",
              "      <td>suv</td>\n",
              "      <td>internal-combustion</td>\n",
              "      <td>74600</td>\n",
              "      <td>0.000</td>\n",
              "      <td>1.000</td>\n",
              "      <td>Los Angeles</td>\n",
              "      <td>2021-01-02</td>\n",
              "      <td>10900.000</td>\n",
              "      <td>2021-01-03</td>\n",
              "      <td>14400</td>\n",
              "      <td>2021-01-07</td>\n",
              "      <td>11470.000</td>\n",
              "    </tr>\n",
              "    <tr>\n",
              "      <th>4</th>\n",
              "      <td>P14XYZ</td>\n",
              "      <td>2014</td>\n",
              "      <td>Honda</td>\n",
              "      <td>CR-V</td>\n",
              "      <td>LX</td>\n",
              "      <td>suv</td>\n",
              "      <td>internal-combustion</td>\n",
              "      <td>58358</td>\n",
              "      <td>0.000</td>\n",
              "      <td>1.000</td>\n",
              "      <td>San Francisco</td>\n",
              "      <td>2021-01-02</td>\n",
              "      <td>12600.000</td>\n",
              "      <td>2021-01-03</td>\n",
              "      <td>14400</td>\n",
              "      <td>2021-02-01</td>\n",
              "      <td>13450.000</td>\n",
              "    </tr>\n",
              "  </tbody>\n",
              "</table>\n",
              "</div>\n",
              "      <button class=\"colab-df-convert\" onclick=\"convertToInteractive('df-2c2af054-5d4a-4098-980b-7296f9899afa')\"\n",
              "              title=\"Convert this dataframe to an interactive table.\"\n",
              "              style=\"display:none;\">\n",
              "        \n",
              "  <svg xmlns=\"http://www.w3.org/2000/svg\" height=\"24px\"viewBox=\"0 0 24 24\"\n",
              "       width=\"24px\">\n",
              "    <path d=\"M0 0h24v24H0V0z\" fill=\"none\"/>\n",
              "    <path d=\"M18.56 5.44l.94 2.06.94-2.06 2.06-.94-2.06-.94-.94-2.06-.94 2.06-2.06.94zm-11 1L8.5 8.5l.94-2.06 2.06-.94-2.06-.94L8.5 2.5l-.94 2.06-2.06.94zm10 10l.94 2.06.94-2.06 2.06-.94-2.06-.94-.94-2.06-.94 2.06-2.06.94z\"/><path d=\"M17.41 7.96l-1.37-1.37c-.4-.4-.92-.59-1.43-.59-.52 0-1.04.2-1.43.59L10.3 9.45l-7.72 7.72c-.78.78-.78 2.05 0 2.83L4 21.41c.39.39.9.59 1.41.59.51 0 1.02-.2 1.41-.59l7.78-7.78 2.81-2.81c.8-.78.8-2.07 0-2.86zM5.41 20L4 18.59l7.72-7.72 1.47 1.35L5.41 20z\"/>\n",
              "  </svg>\n",
              "      </button>\n",
              "      \n",
              "  <style>\n",
              "    .colab-df-container {\n",
              "      display:flex;\n",
              "      flex-wrap:wrap;\n",
              "      gap: 12px;\n",
              "    }\n",
              "\n",
              "    .colab-df-convert {\n",
              "      background-color: #E8F0FE;\n",
              "      border: none;\n",
              "      border-radius: 50%;\n",
              "      cursor: pointer;\n",
              "      display: none;\n",
              "      fill: #1967D2;\n",
              "      height: 32px;\n",
              "      padding: 0 0 0 0;\n",
              "      width: 32px;\n",
              "    }\n",
              "\n",
              "    .colab-df-convert:hover {\n",
              "      background-color: #E2EBFA;\n",
              "      box-shadow: 0px 1px 2px rgba(60, 64, 67, 0.3), 0px 1px 3px 1px rgba(60, 64, 67, 0.15);\n",
              "      fill: #174EA6;\n",
              "    }\n",
              "\n",
              "    [theme=dark] .colab-df-convert {\n",
              "      background-color: #3B4455;\n",
              "      fill: #D2E3FC;\n",
              "    }\n",
              "\n",
              "    [theme=dark] .colab-df-convert:hover {\n",
              "      background-color: #434B5C;\n",
              "      box-shadow: 0px 1px 3px 1px rgba(0, 0, 0, 0.15);\n",
              "      filter: drop-shadow(0px 1px 2px rgba(0, 0, 0, 0.3));\n",
              "      fill: #FFFFFF;\n",
              "    }\n",
              "  </style>\n",
              "\n",
              "      <script>\n",
              "        const buttonEl =\n",
              "          document.querySelector('#df-2c2af054-5d4a-4098-980b-7296f9899afa button.colab-df-convert');\n",
              "        buttonEl.style.display =\n",
              "          google.colab.kernel.accessAllowed ? 'block' : 'none';\n",
              "\n",
              "        async function convertToInteractive(key) {\n",
              "          const element = document.querySelector('#df-2c2af054-5d4a-4098-980b-7296f9899afa');\n",
              "          const dataTable =\n",
              "            await google.colab.kernel.invokeFunction('convertToInteractive',\n",
              "                                                     [key], {});\n",
              "          if (!dataTable) return;\n",
              "\n",
              "          const docLinkHtml = 'Like what you see? Visit the ' +\n",
              "            '<a target=\"_blank\" href=https://colab.research.google.com/notebooks/data_table.ipynb>data table notebook</a>'\n",
              "            + ' to learn more about interactive tables.';\n",
              "          element.innerHTML = '';\n",
              "          dataTable['output_type'] = 'display_data';\n",
              "          await google.colab.output.renderOutput(dataTable, element);\n",
              "          const docLink = document.createElement('div');\n",
              "          docLink.innerHTML = docLinkHtml;\n",
              "          element.appendChild(docLink);\n",
              "        }\n",
              "      </script>\n",
              "    </div>\n",
              "  </div>\n",
              "  "
            ]
          },
          "metadata": {},
          "execution_count": 4
        }
      ]
    },
    {
      "cell_type": "code",
      "source": [
        "df.columns"
      ],
      "metadata": {
        "colab": {
          "base_uri": "https://localhost:8080/"
        },
        "id": "Oscy0sBgtHkr",
        "outputId": "bf936593-6de1-470d-f3a1-befccedf1dad"
      },
      "execution_count": 5,
      "outputs": [
        {
          "output_type": "execute_result",
          "data": {
            "text/plain": [
              "Index(['seller_id', 'year', 'make', 'model', 'trim', 'body_type',\n",
              "       'engine_type', 'mileage', 'accidents', 'owners', 'region',\n",
              "       'appraisal_date', 'acquistion_price', 'listing_date', 'list_price',\n",
              "       'sell_date', 'final_sale_price'],\n",
              "      dtype='object')"
            ]
          },
          "metadata": {},
          "execution_count": 5
        }
      ]
    },
    {
      "cell_type": "markdown",
      "source": [
        "### **2. Preprocessing**"
      ],
      "metadata": {
        "id": "i4YVR5dlHJ49"
      }
    },
    {
      "cell_type": "markdown",
      "source": [
        "#### 2.1 Delete unwanted columns \n",
        "\n",
        "For initial analysis, I am deleteing listing date, list price and sell date as our primary focus is on acquisition price"
      ],
      "metadata": {
        "id": "INQilLEUOJMv"
      }
    },
    {
      "cell_type": "code",
      "source": [
        "# delete listing date,list price, sell date \n",
        "del_cols = ['listing_date','list_price', 'sell_date','seller_id']\n",
        "df.drop(del_cols,axis=1,inplace=True)\n"
      ],
      "metadata": {
        "id": "-WYoSxt_OMtO"
      },
      "execution_count": 70,
      "outputs": []
    },
    {
      "cell_type": "markdown",
      "source": [
        "#### 2.2 Remove duplicate rows\n",
        "\n",
        "There are many duplicates in the data. There are 640k rows for 12k cars. For each car, listing price is changed at multiple instances of time and all the listing price changes are provided in the data. However as our primary focus is acquisition price, I am ignoring listing price. So I am modeling on 12k unique cars."
      ],
      "metadata": {
        "id": "tFQSKN9bTYaT"
      }
    },
    {
      "cell_type": "code",
      "source": [
        "# drop duplicates\n",
        "df = df.drop_duplicates(keep='first')\n",
        "df = df.reset_index(drop=True)"
      ],
      "metadata": {
        "id": "dbpOOLLjTQcK"
      },
      "execution_count": 71,
      "outputs": []
    },
    {
      "cell_type": "markdown",
      "source": [
        "#### 2.3 Process categorical variables"
      ],
      "metadata": {
        "id": "AG9Vh0ohzUzQ"
      }
    },
    {
      "cell_type": "code",
      "source": [
        "# get car based features \n",
        "df['make_model_trim'] = df['make']+' ' + df['model']+ ' ' +df['trim']\n",
        "df['make_model'] =  df['make']+' ' + df['model']\n",
        "\n",
        "#treat categorical variables\n",
        "categorical_variables = ['make', 'model', 'trim', 'body_type',\n",
        "       'engine_type','region', 'make_model_trim', 'make_model']\n",
        "\n",
        "for col in categorical_variables:\n",
        "  df[col] = df[col].str.lower() # covert to lower case\n",
        "  df[col] = df[col].str.strip() # strip spaces\n",
        "\n"
      ],
      "metadata": {
        "id": "oKciKnny9O3T"
      },
      "execution_count": 72,
      "outputs": []
    },
    {
      "cell_type": "code",
      "source": [
        "# Delete cars whose presence is less than 5 times. \n",
        "#This is typically cold start problem and should be handled seperately\n",
        "\n",
        "df_cars =  pd.DataFrame(df['make_model'].value_counts()) # value counts\n",
        "df_cars = df_cars.reset_index()\n",
        "df_cars.columns = ['make_model','freq']\n",
        "\n",
        "# get all cars which have atleast 5 rows of data present\n",
        "cars_with_min_freq_5 =  df_cars[df_cars.freq > 5]['make_model'].to_list() \n",
        "\n",
        "#filter car based on the frequency\n",
        "df = df[df.make_model.isin(cars_with_min_freq_5)]\n",
        "df = df.reset_index(drop=True)"
      ],
      "metadata": {
        "id": "3cD-B3IulUmb"
      },
      "execution_count": 73,
      "outputs": []
    },
    {
      "cell_type": "code",
      "source": [
        ""
      ],
      "metadata": {
        "id": "sniO1bZeJ22a"
      },
      "execution_count": 73,
      "outputs": []
    },
    {
      "cell_type": "markdown",
      "source": [
        "#### 2.4 Handle missing values"
      ],
      "metadata": {
        "id": "K8ot8qdjzoue"
      }
    },
    {
      "cell_type": "code",
      "source": [
        "missing_values_count = df.isna().sum().sort_values(ascending=False).to_frame()\n",
        "missing_values_count = missing_values_count.reset_index()\n",
        "missing_values_count.columns = ['feature','number of missing values']\n",
        "missing_values_count['Percentage of missing values(%)'] = (missing_values_count['number of missing values']/len(df))*100\n",
        "\n",
        "missing_values_count = missing_values_count[missing_values_count['number of missing values']>0]\n",
        "missing_values_count"
      ],
      "metadata": {
        "colab": {
          "base_uri": "https://localhost:8080/",
          "height": 175
        },
        "id": "cK2-iA1azmHg",
        "outputId": "874356f9-d42f-4104-a3e8-8f9df35dd0ea"
      },
      "execution_count": 74,
      "outputs": [
        {
          "output_type": "execute_result",
          "data": {
            "text/plain": [
              "            feature  number of missing values  Percentage of missing values(%)\n",
              "0         accidents                      1222                           10.665\n",
              "1            owners                       922                            8.047\n",
              "2            region                         8                            0.070\n",
              "3  final_sale_price                         4                            0.035"
            ],
            "text/html": [
              "\n",
              "  <div id=\"df-413bae07-c548-411e-b35e-bb748f5341cc\">\n",
              "    <div class=\"colab-df-container\">\n",
              "      <div>\n",
              "<style scoped>\n",
              "    .dataframe tbody tr th:only-of-type {\n",
              "        vertical-align: middle;\n",
              "    }\n",
              "\n",
              "    .dataframe tbody tr th {\n",
              "        vertical-align: top;\n",
              "    }\n",
              "\n",
              "    .dataframe thead th {\n",
              "        text-align: right;\n",
              "    }\n",
              "</style>\n",
              "<table border=\"1\" class=\"dataframe\">\n",
              "  <thead>\n",
              "    <tr style=\"text-align: right;\">\n",
              "      <th></th>\n",
              "      <th>feature</th>\n",
              "      <th>number of missing values</th>\n",
              "      <th>Percentage of missing values(%)</th>\n",
              "    </tr>\n",
              "  </thead>\n",
              "  <tbody>\n",
              "    <tr>\n",
              "      <th>0</th>\n",
              "      <td>accidents</td>\n",
              "      <td>1222</td>\n",
              "      <td>10.665</td>\n",
              "    </tr>\n",
              "    <tr>\n",
              "      <th>1</th>\n",
              "      <td>owners</td>\n",
              "      <td>922</td>\n",
              "      <td>8.047</td>\n",
              "    </tr>\n",
              "    <tr>\n",
              "      <th>2</th>\n",
              "      <td>region</td>\n",
              "      <td>8</td>\n",
              "      <td>0.070</td>\n",
              "    </tr>\n",
              "    <tr>\n",
              "      <th>3</th>\n",
              "      <td>final_sale_price</td>\n",
              "      <td>4</td>\n",
              "      <td>0.035</td>\n",
              "    </tr>\n",
              "  </tbody>\n",
              "</table>\n",
              "</div>\n",
              "      <button class=\"colab-df-convert\" onclick=\"convertToInteractive('df-413bae07-c548-411e-b35e-bb748f5341cc')\"\n",
              "              title=\"Convert this dataframe to an interactive table.\"\n",
              "              style=\"display:none;\">\n",
              "        \n",
              "  <svg xmlns=\"http://www.w3.org/2000/svg\" height=\"24px\"viewBox=\"0 0 24 24\"\n",
              "       width=\"24px\">\n",
              "    <path d=\"M0 0h24v24H0V0z\" fill=\"none\"/>\n",
              "    <path d=\"M18.56 5.44l.94 2.06.94-2.06 2.06-.94-2.06-.94-.94-2.06-.94 2.06-2.06.94zm-11 1L8.5 8.5l.94-2.06 2.06-.94-2.06-.94L8.5 2.5l-.94 2.06-2.06.94zm10 10l.94 2.06.94-2.06 2.06-.94-2.06-.94-.94-2.06-.94 2.06-2.06.94z\"/><path d=\"M17.41 7.96l-1.37-1.37c-.4-.4-.92-.59-1.43-.59-.52 0-1.04.2-1.43.59L10.3 9.45l-7.72 7.72c-.78.78-.78 2.05 0 2.83L4 21.41c.39.39.9.59 1.41.59.51 0 1.02-.2 1.41-.59l7.78-7.78 2.81-2.81c.8-.78.8-2.07 0-2.86zM5.41 20L4 18.59l7.72-7.72 1.47 1.35L5.41 20z\"/>\n",
              "  </svg>\n",
              "      </button>\n",
              "      \n",
              "  <style>\n",
              "    .colab-df-container {\n",
              "      display:flex;\n",
              "      flex-wrap:wrap;\n",
              "      gap: 12px;\n",
              "    }\n",
              "\n",
              "    .colab-df-convert {\n",
              "      background-color: #E8F0FE;\n",
              "      border: none;\n",
              "      border-radius: 50%;\n",
              "      cursor: pointer;\n",
              "      display: none;\n",
              "      fill: #1967D2;\n",
              "      height: 32px;\n",
              "      padding: 0 0 0 0;\n",
              "      width: 32px;\n",
              "    }\n",
              "\n",
              "    .colab-df-convert:hover {\n",
              "      background-color: #E2EBFA;\n",
              "      box-shadow: 0px 1px 2px rgba(60, 64, 67, 0.3), 0px 1px 3px 1px rgba(60, 64, 67, 0.15);\n",
              "      fill: #174EA6;\n",
              "    }\n",
              "\n",
              "    [theme=dark] .colab-df-convert {\n",
              "      background-color: #3B4455;\n",
              "      fill: #D2E3FC;\n",
              "    }\n",
              "\n",
              "    [theme=dark] .colab-df-convert:hover {\n",
              "      background-color: #434B5C;\n",
              "      box-shadow: 0px 1px 3px 1px rgba(0, 0, 0, 0.15);\n",
              "      filter: drop-shadow(0px 1px 2px rgba(0, 0, 0, 0.3));\n",
              "      fill: #FFFFFF;\n",
              "    }\n",
              "  </style>\n",
              "\n",
              "      <script>\n",
              "        const buttonEl =\n",
              "          document.querySelector('#df-413bae07-c548-411e-b35e-bb748f5341cc button.colab-df-convert');\n",
              "        buttonEl.style.display =\n",
              "          google.colab.kernel.accessAllowed ? 'block' : 'none';\n",
              "\n",
              "        async function convertToInteractive(key) {\n",
              "          const element = document.querySelector('#df-413bae07-c548-411e-b35e-bb748f5341cc');\n",
              "          const dataTable =\n",
              "            await google.colab.kernel.invokeFunction('convertToInteractive',\n",
              "                                                     [key], {});\n",
              "          if (!dataTable) return;\n",
              "\n",
              "          const docLinkHtml = 'Like what you see? Visit the ' +\n",
              "            '<a target=\"_blank\" href=https://colab.research.google.com/notebooks/data_table.ipynb>data table notebook</a>'\n",
              "            + ' to learn more about interactive tables.';\n",
              "          element.innerHTML = '';\n",
              "          dataTable['output_type'] = 'display_data';\n",
              "          await google.colab.output.renderOutput(dataTable, element);\n",
              "          const docLink = document.createElement('div');\n",
              "          docLink.innerHTML = docLinkHtml;\n",
              "          element.appendChild(docLink);\n",
              "        }\n",
              "      </script>\n",
              "    </div>\n",
              "  </div>\n",
              "  "
            ]
          },
          "metadata": {},
          "execution_count": 74
        }
      ]
    },
    {
      "cell_type": "markdown",
      "source": [
        "Replace missing values of accidents with 0. \n",
        "Assumption: when accidents are missing, I assume there are no accidents"
      ],
      "metadata": {
        "id": "1IZmvbwjz4ip"
      }
    },
    {
      "cell_type": "code",
      "source": [
        "df['accidents'] = df['accidents'].fillna(0)"
      ],
      "metadata": {
        "id": "ebLSiE_ZzmKU"
      },
      "execution_count": 75,
      "outputs": []
    },
    {
      "cell_type": "markdown",
      "source": [
        "Replace missing values of owners with 1. \n",
        "Assumption: when owners are missing, I assume there is only 1 owner"
      ],
      "metadata": {
        "id": "uA2bpFSi0L4e"
      }
    },
    {
      "cell_type": "code",
      "source": [
        "df['owners'] = df['owners'].fillna(1)"
      ],
      "metadata": {
        "id": "dykP50dDzmNL"
      },
      "execution_count": 76,
      "outputs": []
    },
    {
      "cell_type": "markdown",
      "source": [
        "Replace missing values of region with most common region"
      ],
      "metadata": {
        "id": "UkDoUwJT0opm"
      }
    },
    {
      "cell_type": "code",
      "source": [
        "most_common_region =  df['region'].value_counts().index[0]\n",
        "df['region'] = df['region'].fillna(most_common_region)"
      ],
      "metadata": {
        "id": "IsDcA-n70iS2"
      },
      "execution_count": 77,
      "outputs": []
    },
    {
      "cell_type": "markdown",
      "source": [
        "Delete rows where final sale price is null as the number is very tiny"
      ],
      "metadata": {
        "id": "5K0KxJH81AR2"
      }
    },
    {
      "cell_type": "code",
      "source": [
        "df = df[~df.final_sale_price.isna()]\n",
        "df = df.reset_index(drop=True)"
      ],
      "metadata": {
        "id": "wMO8BCic0_ks"
      },
      "execution_count": 78,
      "outputs": []
    },
    {
      "cell_type": "markdown",
      "source": [
        "### 2.5 extract cars age at the time of appraisal"
      ],
      "metadata": {
        "id": "h4SpmLCUoccg"
      }
    },
    {
      "cell_type": "code",
      "source": [
        "df['appraisal_year'] = df['appraisal_date'].apply(lambda x: int(x.split('-')[0]))\n",
        "\n",
        "df['car_age'] = df['appraisal_year']  - df['year']\n",
        "del df['appraisal_year']\n",
        "del df['appraisal_date']"
      ],
      "metadata": {
        "id": "u0V9ohywokqb"
      },
      "execution_count": 79,
      "outputs": []
    },
    {
      "cell_type": "code",
      "source": [
        "df['car_age'].head()"
      ],
      "metadata": {
        "colab": {
          "base_uri": "https://localhost:8080/"
        },
        "id": "oA0810TUpADN",
        "outputId": "8639e22c-ffe6-4063-b86e-1d7076d4037d"
      },
      "execution_count": 80,
      "outputs": [
        {
          "output_type": "execute_result",
          "data": {
            "text/plain": [
              "0     4\n",
              "1     6\n",
              "2     9\n",
              "3    10\n",
              "4     7\n",
              "Name: car_age, dtype: int64"
            ]
          },
          "metadata": {},
          "execution_count": 80
        }
      ]
    },
    {
      "cell_type": "markdown",
      "source": [
        "### **3. Create train and test files**\n"
      ],
      "metadata": {
        "id": "umL0JQ5x1-aV"
      }
    },
    {
      "cell_type": "code",
      "source": [
        "y = df.pop('acquistion_price')\n",
        "X = df"
      ],
      "metadata": {
        "id": "Ri8QHNZO06xx"
      },
      "execution_count": 81,
      "outputs": []
    },
    {
      "cell_type": "code",
      "source": [
        "# train test split\n",
        "X_train,X_test,y_train,y_test= train_test_split(X,y,test_size=0.2, \n",
        "                                                random_state=9)\n",
        "print('number of training samples:', len(X_train))\n",
        "print('number of test samples:', len(X_test))"
      ],
      "metadata": {
        "colab": {
          "base_uri": "https://localhost:8080/"
        },
        "id": "_NpHrnE70iVs",
        "outputId": "ef6ab216-6a57-47d8-cf28-34038e9cdce7"
      },
      "execution_count": 82,
      "outputs": [
        {
          "output_type": "stream",
          "name": "stdout",
          "text": [
            "number of training samples: 9163\n",
            "number of test samples: 2291\n"
          ]
        }
      ]
    },
    {
      "cell_type": "markdown",
      "source": [
        "### **4. Get average acquisiton price of each car in training data**"
      ],
      "metadata": {
        "id": "vnLHt3cEGGba"
      }
    },
    {
      "cell_type": "code",
      "source": [
        "# Extract average sale prices based on make, model and trim from training data\n",
        "make_model_trim_avg_final_price_dict =  X_train.groupby('make_model_trim')['final_sale_price'].mean().to_dict()\n",
        "make_model_avg_final_price_dict =  X_train.groupby('make_model')['final_sale_price'].mean().to_dict()\n",
        "make_avg_final_price_dict =  X_train.groupby('make')['final_sale_price'].mean().to_dict()"
      ],
      "metadata": {
        "id": "ta6UBd3qG1g3"
      },
      "execution_count": 83,
      "outputs": []
    },
    {
      "cell_type": "code",
      "source": [
        "# Function to impute average sale price of the car.\n",
        "'''Logic:\n",
        "If make+model+trim details are available, impute with the avg value of make+model+trim \n",
        "If trim details are not available but only make+model details are available, impute with the avg value of make+model\n",
        "If trim and model details are not available but only make details are available, impute with the avg value of make\n",
        "If no details of the car are available, impute with average final sale price. -> cold start problem and can be \n",
        "handled better\n",
        "'''\n",
        "\n",
        "def impute_avg_final_price(x):\n",
        "  if x['make_model_trim'] in make_model_trim_avg_final_price_dict:\n",
        "    return make_model_trim_avg_final_price_dict[x['make_model_trim']]\n",
        "  elif x['make_model'] in make_model_avg_final_price_dict:\n",
        "    return make_model_avg_final_price_dict[x['make_model']]\n",
        "  elif x['make'] in make_avg_final_price_dict:\n",
        "    return make_avg_final_price_dict[x['make']]\n",
        "  else:\n",
        "    return X_train['final_sale_price'].mean()\n"
      ],
      "metadata": {
        "id": "ScnfemU5HqEP"
      },
      "execution_count": 84,
      "outputs": []
    },
    {
      "cell_type": "code",
      "source": [
        "#Impute prior average car sale price based on training data.\n",
        "X_train['prior_avg_sale_price'] =  X_train.apply(impute_avg_final_price, axis=1)\n",
        "X_test['prior_avg_sale_price'] =  X_test.apply(impute_avg_final_price, axis=1)"
      ],
      "metadata": {
        "id": "mZVDNiVtIQF1"
      },
      "execution_count": 85,
      "outputs": []
    },
    {
      "cell_type": "markdown",
      "source": [
        "### **5. Label encoding for categorical variables**"
      ],
      "metadata": {
        "id": "KI6jnkk44Kkz"
      }
    },
    {
      "cell_type": "code",
      "source": [
        "from sklearn.preprocessing import LabelEncoder\n",
        "from sklearn.pipeline import Pipeline\n",
        "\n",
        "\n",
        "class MultiColumnLabelEncoder:\n",
        "    def __init__(self,columns = None):\n",
        "        self.columns = columns # array of column names to encode\n",
        "\n",
        "    def fit(self,X,y=None):\n",
        "        return self # not relevant here\n",
        "\n",
        "    def transform(self,X):\n",
        "        '''\n",
        "        Transforms columns of X specified in self.columns using\n",
        "        LabelEncoder(). If no columns specified, transforms all\n",
        "        columns in X.\n",
        "        '''\n",
        "        output = X.copy()\n",
        "        if self.columns is not None:\n",
        "            for col in self.columns:\n",
        "                output[col] = LabelEncoder().fit_transform(output[col])\n",
        "        else:\n",
        "            for colname,col in output.iteritems():\n",
        "                output[colname] = LabelEncoder().fit_transform(col)\n",
        "        return output\n",
        "\n",
        "    def fit_transform(self,X,y=None):\n",
        "        return self.fit(X,y).transform(X)"
      ],
      "metadata": {
        "id": "ky3PYPhq0iYn"
      },
      "execution_count": 86,
      "outputs": []
    },
    {
      "cell_type": "code",
      "source": [
        "cat_columns = X_train.columns[X_train.dtypes=='object'].tolist()\n",
        "mcle = MultiColumnLabelEncoder(cat_columns)\n",
        "X_train = mcle.fit_transform(X_train) # Fit label encoder to train data\n",
        "X_test = mcle.transform(X_test) # Transform label encoder to test data"
      ],
      "metadata": {
        "id": "dKJDsjXdzmPx"
      },
      "execution_count": 87,
      "outputs": []
    },
    {
      "cell_type": "markdown",
      "source": [
        "### **6.Thought process**"
      ],
      "metadata": {
        "id": "8X-HEjNW4o_6"
      }
    },
    {
      "cell_type": "markdown",
      "source": [
        "The moto of the project is to find the **optimal acquisition price**.\n",
        "\n",
        "\n",
        "In the dataset, there are some cars which are sold for profit and some for loss.  \n",
        "\n",
        "*   When the acquisition price is optimal? -> If the car is sold for a profit.\n",
        "\n",
        "\n",
        "*   When the acquisition price is not optimal? -> If the car is sold for a loss. \n",
        "\n",
        "\n",
        "So I calculated net profit_loss which calculates the net profit or loss for each car in the train data set. If net profit_loss is negative, then the car is sold for a loss. If net profit_loss is positive, then the car is sold for profit.\n",
        "\n",
        "We don't want the cars which are sold for a loss in our training data because the acquisition price for these is not optimal. \n",
        "\n",
        "So I experimented few things: \n",
        "\n",
        "a. I removed all the rows where net price is negative.\n",
        "\n",
        "b. I modified the acquisition price for the cars sold for a loss in trianing data. \n"
      ],
      "metadata": {
        "id": "ut57Huf7632x"
      }
    },
    {
      "cell_type": "code",
      "source": [
        "# true net price =  final sale price - true acquisition price \n",
        "X_train['true_net_profit_loss'] = X_train['final_sale_price'] - y_train\n",
        "\n",
        "\n",
        "# create temp train dataframe\n",
        "df_train = X_train.copy()\n",
        "df_train['acquistion_price'] = y_train\n",
        "\n",
        "# calculate average profit for each car in trianing data\n",
        "avg_net_profit =  df_train['true_net_profit_loss'].mean()\n",
        "\n",
        "# For cars sold at loss in training data, acuqisition price = final sale price - average profit of a car\n",
        "df_train['acquistion_price']  = np.where(X_train['true_net_profit_loss'] <= 0,df_train['final_sale_price'] - avg_net_profit,\n",
        "                                         df_train['acquistion_price'] )\n",
        "\n",
        "\n",
        "# Get X train and y train from train dataframe\n",
        "y_train = df_train.pop('acquistion_price')\n",
        "X_train = df_train"
      ],
      "metadata": {
        "id": "Ss-qR2Daf9yH"
      },
      "execution_count": 88,
      "outputs": []
    },
    {
      "cell_type": "markdown",
      "source": [
        "Final sale price is not used in the model training as at the time of car acquisition, we wouldn't be aware of final sale price. "
      ],
      "metadata": {
        "id": "JPocnPHGg-Ec"
      }
    },
    {
      "cell_type": "code",
      "source": [
        "del X_train['true_net_profit_loss']\n",
        "del X_train['final_sale_price']  # delete final sale price in train data\n",
        "test_final_sale_price =  X_test.pop('final_sale_price') # get final sale price in test data"
      ],
      "metadata": {
        "id": "ZFdtfKb6CIEn"
      },
      "execution_count": 89,
      "outputs": []
    },
    {
      "cell_type": "markdown",
      "source": [
        "### **7. Performance evaluation**"
      ],
      "metadata": {
        "id": "TTsskGoleHGA"
      }
    },
    {
      "cell_type": "markdown",
      "source": [
        "How are models evaluated? \n",
        "I used r2 squared.\n",
        "\n",
        "In test data set, we have cars which are sold for profit and loss. \n",
        "\n",
        "As we are predicting the optimal acquisition price:\n",
        "\n",
        "For the cars which are sold for profit, the predicted acquisition price should be closer to that of the true acquisition price. So r2 squared should be higher.\n",
        "\n",
        "For the cars which are sold for loss, the true acquisition price is apparently wrong. In these cases, There is very high chance that shift paid more than the true value of the car. So the predicted acquisition price should be different(lower) than the true acquisition price. So r2 squared should be lower.\n",
        "\n",
        "\n",
        "Conditions:\n",
        "\n",
        "For net price > 0, r2 squared should be higher\n",
        "\n",
        "For net price <= 0, r2 squared should be lower\n",
        "\n",
        "In real time predictions, we wouldn't have net price(sale price - acquisition price). As we are in modelling phase, I used net price.\n",
        "\n",
        "Also I calculated the total net profit based on true acquisition price and model predicted acquisition price.\n",
        "\n"
      ],
      "metadata": {
        "id": "EvLgkddokc4B"
      }
    },
    {
      "cell_type": "markdown",
      "source": [
        "### 7.1 Net profit/loss"
      ],
      "metadata": {
        "id": "4tZKwpuFKxNm"
      }
    },
    {
      "cell_type": "markdown",
      "source": [
        "I calculated the total net profit/loss based on true acquisition price and model predicted acquisition price.​\n",
        "\n",
        "\n",
        "a. Final sale price: The price at which the car is sold​\n",
        "\n",
        "b. True acquisition price: The price at which the car is acquired​\n",
        "\n",
        "c. Predicted acquisition price: The acquisition price which the ML models predicted.​\n",
        "\n",
        "​\n",
        "\n",
        "True net profit loss = Final sale price - True acquisition price​\n",
        "\n",
        "Predicted net profit loss = Final sale price - Predicted acquisition price​\n",
        "\n",
        "​\n",
        "\n",
        "If the Predicted net profit loss  > True net profit loss: The ML models predictions of acquisition price are better than existing data as more profits can be obtained.​\n",
        "\n",
        "If the Predicted net profit loss  < True net profit loss: The ML models predictions of acquisition price are bad."
      ],
      "metadata": {
        "id": "Dqlmq8CDKxTX"
      }
    },
    {
      "cell_type": "code",
      "source": [
        "# Wrapper function for model evaluation\n",
        "def performance_evaluator(y_true, y_pred, model_name):\n",
        "\n",
        "  \"\"\"\n",
        "  Evaluate model performance\n",
        "  \"\"\"\n",
        "\n",
        "  print(model_name,'results:','\\n')\n",
        "\n",
        "  r2score = r2_score(y_true,y_pred) \n",
        "  print('r2 score',model_name,':',round(r2score,2))\n",
        "\n",
        "\n",
        "  df_test = pd.DataFrame(test_final_sale_price)\n",
        "  df_test['true_acquisition_price'] = y_true\n",
        "  df_test['predicted_acquisition_price'] = y_pred\n",
        "  df_test['true_net_profit_loss'] = df_test['final_sale_price'] - df_test['true_acquisition_price']\n",
        "  \n",
        "\n",
        "  # Model evaluation for instances where car is sold for a minimum profit\n",
        "\n",
        "  df_profit = df_test[df_test['true_net_profit_loss']>=0]\n",
        "\n",
        "  y_true_profit = df_profit['true_acquisition_price']\n",
        "  y_predicted_profit = df_profit['predicted_acquisition_price']\n",
        "\n",
        "  r2score_profit = r2_score(y_true_profit,y_predicted_profit) \n",
        "  print('r2 score for profit',model_name,':',round(r2score_profit,2))\n",
        "\n",
        "\n",
        "  # Model evaluation for instances where car is sold for a loss\n",
        "\n",
        "  df_loss = df_test[df_test['true_net_profit_loss']<0]\n",
        "\n",
        "  y_true_loss = df_loss['true_acquisition_price']\n",
        "  y_predicted_loss = df_loss['predicted_acquisition_price']\n",
        "\n",
        "\n",
        "  r2score_loss = r2_score(y_true_loss,y_predicted_loss) \n",
        "  print('r2 score of loss for',model_name,':',round(r2score_loss,2))\n",
        "  print('\\n')\n",
        "\n",
        "\n",
        "  # Net profit based on model predictions\n",
        "  print('True net profit loss:', round(sum(df_test['true_net_profit_loss'])/1000000,2),'Millions')\n",
        "  print('Predicted net profit loss:', round(sum(df_test['final_sale_price'] - df_test['predicted_acquisition_price'])/1000000,2),\n",
        "   'Millions')\n",
        "\n"
      ],
      "metadata": {
        "id": "CZG09F9A4UOs"
      },
      "execution_count": 90,
      "outputs": []
    },
    {
      "cell_type": "markdown",
      "source": [
        "### **8. ML Modeling**\n",
        "\n",
        "The idea is to start with small models and improve gradually."
      ],
      "metadata": {
        "id": "Zvvh4fxTiiSU"
      }
    },
    {
      "cell_type": "markdown",
      "source": [
        "#### 8.1 Linear regression\n",
        "\n",
        "Used linear regression as a baseline model."
      ],
      "metadata": {
        "id": "ZYVFYqtTqLQw"
      }
    },
    {
      "cell_type": "code",
      "source": [
        "# instantiate the model\n",
        "lr = LinearRegression()\n",
        "lr.fit(X_train,y_train) # fit the training data and train the model\n",
        "\n",
        "lr_train_predictions = lr.predict(X_train) # predict on train data\n",
        "lr_test_predictions = lr.predict(X_test) # predict on test data"
      ],
      "metadata": {
        "id": "GfMo_IJdpnHb"
      },
      "execution_count": 31,
      "outputs": []
    },
    {
      "cell_type": "code",
      "source": [
        "performance_evaluator(y_test, lr_test_predictions, 'Linear regression')\n"
      ],
      "metadata": {
        "colab": {
          "base_uri": "https://localhost:8080/"
        },
        "id": "NR51VSl-pnKF",
        "outputId": "e0f1a502-f43f-45eb-8bc2-88a3c5582bc5"
      },
      "execution_count": 34,
      "outputs": [
        {
          "output_type": "stream",
          "name": "stdout",
          "text": [
            "Linear regression results: \n",
            "\n",
            "r2 score Linear regression : 0.78\n",
            "r2 score for profit Linear regression : 0.77\n",
            "r2 score of loss for Linear regression : 0.76\n",
            "\n",
            "\n",
            "True net profit loss: 2.83 Millions\n",
            "Predicted net profit loss: 2.46 Millions\n"
          ]
        }
      ]
    },
    {
      "cell_type": "markdown",
      "source": [
        "#### 8.2 Support vector regression"
      ],
      "metadata": {
        "id": "4wfTb20d4JWG"
      }
    },
    {
      "cell_type": "code",
      "source": [
        "# instantiate the model\n",
        "svr = SVR()\n",
        "svr.fit(X_train, y_train)  # fit the training data and train the model\n",
        "\n",
        "svr_train_predictions = svr.predict(X_train) # predict on train data\n",
        "svr_test_predictions = svr.predict(X_test) # predict on test data"
      ],
      "metadata": {
        "id": "c1vAfWm3_tfh"
      },
      "execution_count": 35,
      "outputs": []
    },
    {
      "cell_type": "code",
      "source": [
        "performance_evaluator(y_test, svr_test_predictions, 'Support vector regression')\n"
      ],
      "metadata": {
        "colab": {
          "base_uri": "https://localhost:8080/"
        },
        "id": "A6flO4jB_4Yl",
        "outputId": "2b93659a-2871-4460-92d0-fc76ae14a8c7"
      },
      "execution_count": 39,
      "outputs": [
        {
          "output_type": "stream",
          "name": "stdout",
          "text": [
            "Support vector regression results: \n",
            "\n",
            "r2 score Support vector regression : 0.11\n",
            "r2 score for profit Support vector regression : 0.12\n",
            "r2 score of loss for Support vector regression : -0.12\n",
            "\n",
            "\n",
            "True net profit loss: 2.83 Millions\n",
            "Predicted net profit loss: -0.56 Millions\n"
          ]
        }
      ]
    },
    {
      "cell_type": "markdown",
      "source": [
        "### 8.3 Random forest"
      ],
      "metadata": {
        "id": "VzoLLuyR_-xX"
      }
    },
    {
      "cell_type": "code",
      "source": [
        "# instantiate the model\n",
        "rfr = RandomForestRegressor()\n",
        "rfr.fit(X_train, y_train)  # fit the training data and train the model\n",
        "\n",
        "rfr_train_predictions = rfr.predict(X_train) # predict on train data\n",
        "rfr_test_predictions = rfr.predict(X_test) # predict on test data"
      ],
      "metadata": {
        "id": "ba9l7uUfAB-n"
      },
      "execution_count": 40,
      "outputs": []
    },
    {
      "cell_type": "code",
      "source": [
        "performance_evaluator(y_test, rfr_test_predictions, 'Random Forest')\n"
      ],
      "metadata": {
        "colab": {
          "base_uri": "https://localhost:8080/"
        },
        "id": "UVGQCCe_AIn9",
        "outputId": "45438e8b-e106-479b-b9cd-79ec1995ca6e"
      },
      "execution_count": 43,
      "outputs": [
        {
          "output_type": "stream",
          "name": "stdout",
          "text": [
            "Random Forest results: \n",
            "\n",
            "r2 score Random Forest : 0.84\n",
            "r2 score for profit Random Forest : 0.83\n",
            "r2 score of loss for Random Forest : 0.82\n",
            "\n",
            "\n",
            "True net profit loss: 2.83 Millions\n",
            "Predicted net profit loss: 2.75 Millions\n"
          ]
        }
      ]
    },
    {
      "cell_type": "markdown",
      "source": [
        "### 8.4 Xgboosting\n",
        "Let's train the data on xgboosting. "
      ],
      "metadata": {
        "id": "WE8C7N3zqtZ9"
      }
    },
    {
      "cell_type": "code",
      "source": [
        "# instantiate the model\n",
        "xgb = XGBRegressor()\n",
        "xgb.fit(X_train, y_train)  # fit the training data and train the model\n",
        "\n",
        "xgb_train_predictions = xgb.predict(X_train) # predict on train data\n",
        "xgb_test_predictions = xgb.predict(X_test) # predict on test data"
      ],
      "metadata": {
        "colab": {
          "base_uri": "https://localhost:8080/"
        },
        "id": "iZY3AOi5pnM4",
        "outputId": "31b3ed44-a38c-44c3-e749-5f5c48aecd54"
      },
      "execution_count": 91,
      "outputs": [
        {
          "output_type": "stream",
          "name": "stdout",
          "text": [
            "[19:23:40] WARNING: /workspace/src/objective/regression_obj.cu:152: reg:linear is now deprecated in favor of reg:squarederror.\n"
          ]
        }
      ]
    },
    {
      "cell_type": "code",
      "source": [
        "performance_evaluator(y_test, xgb_test_predictions, 'Xgb')"
      ],
      "metadata": {
        "colab": {
          "base_uri": "https://localhost:8080/"
        },
        "id": "X24tChlRY7YQ",
        "outputId": "dce3309c-1474-4115-a238-ca02cb742a14"
      },
      "execution_count": 55,
      "outputs": [
        {
          "output_type": "stream",
          "name": "stdout",
          "text": [
            "Xgb results:\n",
            "\n",
            "r2 score Xgb : 0.80\n",
            "r2 score for profit Xgb : 0.82\n",
            "r2 score of loss for Xgb : 0.76\n",
            "\n",
            "\n",
            "True net profit loss: 2.83 Millions\n",
            "Predicted net profit loss: 2.77 Millions\n"
          ]
        }
      ]
    },
    {
      "cell_type": "markdown",
      "source": [
        "### 8.4 Xgboosting parameter tuning\n"
      ],
      "metadata": {
        "id": "nwNsBLtgZlFC"
      }
    },
    {
      "cell_type": "code",
      "source": [
        "# parameters for hyperparameter tuning.\n",
        "params_grid = {\n",
        "    'n_estimators': [100,300, 500],\n",
        "    'learning_rate': [0.05,0.1],\n",
        "    'max_depth':[5,6,8],\n",
        "    'min_child_weight':[3,4,5]}\n",
        "\n",
        "\n",
        "xgb = XGBRegressor(objective='reg:squarederror')\n",
        "xgb_cv = GridSearchCV(xgb, params_grid, verbose=0, cv=2)\n",
        "xgb_cv.fit(X_train, y_train)\n",
        "xgb_cv_test_predictions = xgb_cv.predict(X_test) # predict on test data"
      ],
      "metadata": {
        "id": "P2dYrIR3ZkgI"
      },
      "execution_count": 59,
      "outputs": []
    },
    {
      "cell_type": "code",
      "source": [
        "print(f'Best score: {xgb_cv.best_score_}')"
      ],
      "metadata": {
        "colab": {
          "base_uri": "https://localhost:8080/"
        },
        "id": "mtcba7vAZqJD",
        "outputId": "7a038b26-0126-437b-8121-900ee6cee4df"
      },
      "execution_count": 60,
      "outputs": [
        {
          "output_type": "stream",
          "name": "stdout",
          "text": [
            "Best score: 0.9338797568259711\n"
          ]
        }
      ]
    },
    {
      "cell_type": "code",
      "source": [
        "print(f'Best model: {xgb_cv.best_params_}')"
      ],
      "metadata": {
        "colab": {
          "base_uri": "https://localhost:8080/"
        },
        "id": "tPJa8fxZZqL7",
        "outputId": "4cca8aec-970e-4ffc-b0ad-45d3a7658599"
      },
      "execution_count": 61,
      "outputs": [
        {
          "output_type": "stream",
          "name": "stdout",
          "text": [
            "Best model: {'learning_rate': 0.1, 'max_depth': 5, 'min_child_weight': 5, 'n_estimators': 500}\n"
          ]
        }
      ]
    },
    {
      "cell_type": "code",
      "source": [
        "performance_evaluator(y_test, xgb_cv_test_predictions, 'Xgb parameter tuning')"
      ],
      "metadata": {
        "id": "eTFLutolY1yx",
        "colab": {
          "base_uri": "https://localhost:8080/"
        },
        "outputId": "e2cb4105-f878-481a-8280-2559a63aff80"
      },
      "execution_count": 63,
      "outputs": [
        {
          "output_type": "stream",
          "name": "stdout",
          "text": [
            "Xgb parameter tuning results:\n",
            "\n",
            "r2 score Xgb parameter tuning : 0.85\n",
            "r2 score for profit Xgb parameter tuning : 0.9\n",
            "r2 score of loss for Xgb parameter tuning : 0.78\n",
            "\n",
            "\n",
            "True net profit loss: 2.83 Millions\n",
            "Predicted net profit loss: 2.95 Millions\n"
          ]
        }
      ]
    },
    {
      "cell_type": "markdown",
      "source": [
        "### **9. Feature importance**"
      ],
      "metadata": {
        "id": "fqN8rCZEeQGK"
      }
    },
    {
      "cell_type": "code",
      "source": [
        "xgb.get_booster().get_score(importance_type='weight')\n"
      ],
      "metadata": {
        "colab": {
          "base_uri": "https://localhost:8080/"
        },
        "id": "eGDzOb8V54Hm",
        "outputId": "d4f99688-92f6-4ded-d16b-5d050dd45be7"
      },
      "execution_count": 92,
      "outputs": [
        {
          "output_type": "execute_result",
          "data": {
            "text/plain": [
              "{'accidents': 14,\n",
              " 'body_type': 35,\n",
              " 'car_age': 10,\n",
              " 'engine_type': 12,\n",
              " 'make': 15,\n",
              " 'make_model': 3,\n",
              " 'make_model_trim': 71,\n",
              " 'mileage': 96,\n",
              " 'model': 58,\n",
              " 'owners': 4,\n",
              " 'prior_avg_sale_price': 174,\n",
              " 'region': 6,\n",
              " 'trim': 72,\n",
              " 'year': 114}"
            ]
          },
          "metadata": {},
          "execution_count": 92
        }
      ]
    },
    {
      "cell_type": "code",
      "source": [
        "# Feature importance\n",
        "feature_important = xgb.get_booster().get_score(importance_type='weight')\n",
        "\n",
        "\n",
        "\n",
        "keys = list(feature_important.keys())\n",
        "values = list(feature_important.values())\n",
        "\n",
        "data = pd.DataFrame(data=values, index=keys, columns=[\"score\"]).sort_values(by = \"score\", ascending=False)\n",
        "data.plot(kind='barh')"
      ],
      "metadata": {
        "colab": {
          "base_uri": "https://localhost:8080/",
          "height": 283
        },
        "id": "BDsHc9bp6WAm",
        "outputId": "8cb4c4fc-bf6b-4394-9bd7-70827f759b7a"
      },
      "execution_count": 93,
      "outputs": [
        {
          "output_type": "execute_result",
          "data": {
            "text/plain": [
              "<matplotlib.axes._subplots.AxesSubplot at 0x7fec8b6c8850>"
            ]
          },
          "metadata": {},
          "execution_count": 93
        },
        {
          "output_type": "display_data",
          "data": {
            "text/plain": [
              "<Figure size 432x288 with 1 Axes>"
            ],
            "image/png": "[encoded data removed]"
          },
          "metadata": {
            "needs_background": "light"
          }
        }
      ]
    },
    {
      "cell_type": "markdown",
      "source": [
        "### **10. Conclusion**"
      ],
      "metadata": {
        "id": "whaORXBLeU6z"
      }
    },
    {
      "cell_type": "markdown",
      "source": [
        "Built a regression model to predict the car acquisition price.​\n",
        "\n",
        "Using Xgboost with parameter tuning, an r2 square of 0.85 was obtained.​\n",
        "\n",
        "The predicted net profit on test data using Xgb is 2.95 million dollars whereas existing net profit on test data is 2.83 million dollars.​\n",
        "\n",
        "​\n",
        "\n",
        "There is still lots of scope for model performance improvement. Due to the time constraints, I stopped going further. These are some of the places of improvement:​\n",
        "\n",
        "**Cold start problem:** I observed that there are many cars which occured less than 5 times in the data. In such cases, model is performing poorly. \n",
        "For example, car mercedes-benz cl 63 cl 63 amg appeared only once in the training data. So model wasn't sure how to predict the acquisition price in this instance. This is typically called cold start problem and we would typically take special care to predict prices of the first time occuring cars. Using data augmentation techniques and external data sources can further improve acquisition price prediction.​\n",
        "\n",
        "Concentrating on places where cars are sold for a loss may yield better results. In training data, For all the cars which are sold at a loss, we can experiment with acquisition price logics and obtain better results.\n",
        "\n",
        "Example: In trainng data, for cars sold at a loss, set acquisition price = selling price + Average profit for that type of car(make+model+trim). "
      ],
      "metadata": {
        "id": "V7dVgD8kgUtR"
      }
    }
  ]
}